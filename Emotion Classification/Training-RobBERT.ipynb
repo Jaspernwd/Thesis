{
 "cells": [
  {
   "cell_type": "code",
   "execution_count": 1,
   "metadata": {},
   "outputs": [],
   "source": [
    "# This notebook should be run on google colab. Huggingface's transformers does not like lokal notebooks"
   ]
  },
  {
   "cell_type": "markdown",
   "metadata": {
    "id": "LOacg2mhYVFb"
   },
   "source": [
    "# Installing"
   ]
  },
  {
   "cell_type": "code",
   "execution_count": 11,
   "metadata": {
    "id": "PWLnO7LwYNZP"
   },
   "outputs": [],
   "source": [
    "# Installments"
   ]
  },
  {
   "cell_type": "code",
   "execution_count": 12,
   "metadata": {
    "colab": {
     "base_uri": "https://localhost:8080/"
    },
    "id": "suhjs8vPX9IO",
    "outputId": "dbfdfcad-a0e3-4f81-94d6-d464f7cc3587"
   },
   "outputs": [
    {
     "name": "stdout",
     "output_type": "stream",
     "text": [
      "Requirement already satisfied: transformers in /usr/local/lib/python3.7/dist-packages (4.8.2)\n",
      "Requirement already satisfied: tokenizers<0.11,>=0.10.1 in /usr/local/lib/python3.7/dist-packages (from transformers) (0.10.3)\n",
      "Requirement already satisfied: importlib-metadata; python_version < \"3.8\" in /usr/local/lib/python3.7/dist-packages (from transformers) (4.5.0)\n",
      "Requirement already satisfied: huggingface-hub==0.0.12 in /usr/local/lib/python3.7/dist-packages (from transformers) (0.0.12)\n",
      "Requirement already satisfied: packaging in /usr/local/lib/python3.7/dist-packages (from transformers) (20.9)\n",
      "Requirement already satisfied: regex!=2019.12.17 in /usr/local/lib/python3.7/dist-packages (from transformers) (2019.12.20)\n",
      "Requirement already satisfied: filelock in /usr/local/lib/python3.7/dist-packages (from transformers) (3.0.12)\n",
      "Requirement already satisfied: requests in /usr/local/lib/python3.7/dist-packages (from transformers) (2.23.0)\n",
      "Requirement already satisfied: tqdm>=4.27 in /usr/local/lib/python3.7/dist-packages (from transformers) (4.41.1)\n",
      "Requirement already satisfied: numpy>=1.17 in /usr/local/lib/python3.7/dist-packages (from transformers) (1.19.5)\n",
      "Requirement already satisfied: pyyaml in /usr/local/lib/python3.7/dist-packages (from transformers) (3.13)\n",
      "Requirement already satisfied: sacremoses in /usr/local/lib/python3.7/dist-packages (from transformers) (0.0.45)\n",
      "Requirement already satisfied: zipp>=0.5 in /usr/local/lib/python3.7/dist-packages (from importlib-metadata; python_version < \"3.8\"->transformers) (3.4.1)\n",
      "Requirement already satisfied: typing-extensions>=3.6.4; python_version < \"3.8\" in /usr/local/lib/python3.7/dist-packages (from importlib-metadata; python_version < \"3.8\"->transformers) (3.7.4.3)\n",
      "Requirement already satisfied: pyparsing>=2.0.2 in /usr/local/lib/python3.7/dist-packages (from packaging->transformers) (2.4.7)\n",
      "Requirement already satisfied: chardet<4,>=3.0.2 in /usr/local/lib/python3.7/dist-packages (from requests->transformers) (3.0.4)\n",
      "Requirement already satisfied: urllib3!=1.25.0,!=1.25.1,<1.26,>=1.21.1 in /usr/local/lib/python3.7/dist-packages (from requests->transformers) (1.24.3)\n",
      "Requirement already satisfied: certifi>=2017.4.17 in /usr/local/lib/python3.7/dist-packages (from requests->transformers) (2021.5.30)\n",
      "Requirement already satisfied: idna<3,>=2.5 in /usr/local/lib/python3.7/dist-packages (from requests->transformers) (2.10)\n",
      "Requirement already satisfied: six in /usr/local/lib/python3.7/dist-packages (from sacremoses->transformers) (1.15.0)\n",
      "Requirement already satisfied: click in /usr/local/lib/python3.7/dist-packages (from sacremoses->transformers) (7.1.2)\n",
      "Requirement already satisfied: joblib in /usr/local/lib/python3.7/dist-packages (from sacremoses->transformers) (1.0.1)\n"
     ]
    }
   ],
   "source": [
    "!pip install transformers"
   ]
  },
  {
   "cell_type": "code",
   "execution_count": 13,
   "metadata": {
    "colab": {
     "base_uri": "https://localhost:8080/"
    },
    "id": "aoDm30p2YAxg",
    "outputId": "f3ca1ecd-84c8-4cc1-b67a-f949eab4be3d"
   },
   "outputs": [
    {
     "name": "stdout",
     "output_type": "stream",
     "text": [
      "Requirement already satisfied: datasets in /usr/local/lib/python3.7/dist-packages (1.8.0)\n",
      "Requirement already satisfied: xxhash in /usr/local/lib/python3.7/dist-packages (from datasets) (2.0.2)\n",
      "Requirement already satisfied: requests>=2.19.0 in /usr/local/lib/python3.7/dist-packages (from datasets) (2.23.0)\n",
      "Requirement already satisfied: pandas in /usr/local/lib/python3.7/dist-packages (from datasets) (1.1.5)\n",
      "Requirement already satisfied: numpy>=1.17 in /usr/local/lib/python3.7/dist-packages (from datasets) (1.19.5)\n",
      "Requirement already satisfied: importlib-metadata; python_version < \"3.8\" in /usr/local/lib/python3.7/dist-packages (from datasets) (4.5.0)\n",
      "Requirement already satisfied: pyarrow<4.0.0,>=1.0.0 in /usr/local/lib/python3.7/dist-packages (from datasets) (3.0.0)\n",
      "Requirement already satisfied: dill in /usr/local/lib/python3.7/dist-packages (from datasets) (0.3.4)\n",
      "Requirement already satisfied: packaging in /usr/local/lib/python3.7/dist-packages (from datasets) (20.9)\n",
      "Requirement already satisfied: multiprocess in /usr/local/lib/python3.7/dist-packages (from datasets) (0.70.12.2)\n",
      "Requirement already satisfied: tqdm<4.50.0,>=4.27 in /usr/local/lib/python3.7/dist-packages (from datasets) (4.41.1)\n",
      "Requirement already satisfied: fsspec in /usr/local/lib/python3.7/dist-packages (from datasets) (2021.6.1)\n",
      "Requirement already satisfied: huggingface-hub<0.1.0 in /usr/local/lib/python3.7/dist-packages (from datasets) (0.0.12)\n",
      "Requirement already satisfied: chardet<4,>=3.0.2 in /usr/local/lib/python3.7/dist-packages (from requests>=2.19.0->datasets) (3.0.4)\n",
      "Requirement already satisfied: certifi>=2017.4.17 in /usr/local/lib/python3.7/dist-packages (from requests>=2.19.0->datasets) (2021.5.30)\n",
      "Requirement already satisfied: urllib3!=1.25.0,!=1.25.1,<1.26,>=1.21.1 in /usr/local/lib/python3.7/dist-packages (from requests>=2.19.0->datasets) (1.24.3)\n",
      "Requirement already satisfied: idna<3,>=2.5 in /usr/local/lib/python3.7/dist-packages (from requests>=2.19.0->datasets) (2.10)\n",
      "Requirement already satisfied: pytz>=2017.2 in /usr/local/lib/python3.7/dist-packages (from pandas->datasets) (2018.9)\n",
      "Requirement already satisfied: python-dateutil>=2.7.3 in /usr/local/lib/python3.7/dist-packages (from pandas->datasets) (2.8.1)\n",
      "Requirement already satisfied: typing-extensions>=3.6.4; python_version < \"3.8\" in /usr/local/lib/python3.7/dist-packages (from importlib-metadata; python_version < \"3.8\"->datasets) (3.7.4.3)\n",
      "Requirement already satisfied: zipp>=0.5 in /usr/local/lib/python3.7/dist-packages (from importlib-metadata; python_version < \"3.8\"->datasets) (3.4.1)\n",
      "Requirement already satisfied: pyparsing>=2.0.2 in /usr/local/lib/python3.7/dist-packages (from packaging->datasets) (2.4.7)\n",
      "Requirement already satisfied: filelock in /usr/local/lib/python3.7/dist-packages (from huggingface-hub<0.1.0->datasets) (3.0.12)\n",
      "Requirement already satisfied: six>=1.5 in /usr/local/lib/python3.7/dist-packages (from python-dateutil>=2.7.3->pandas->datasets) (1.15.0)\n"
     ]
    }
   ],
   "source": [
    "!pip install datasets"
   ]
  },
  {
   "cell_type": "code",
   "execution_count": 14,
   "metadata": {
    "colab": {
     "base_uri": "https://localhost:8080/"
    },
    "id": "hUv3On9X7bR2",
    "outputId": "aabc12a0-343f-4a7e-ee41-050258f9a9d7"
   },
   "outputs": [
    {
     "name": "stdout",
     "output_type": "stream",
     "text": [
      "Requirement already satisfied: tensorflow-addons in /usr/local/lib/python3.7/dist-packages (0.13.0)\n",
      "Requirement already satisfied: typeguard>=2.7 in /usr/local/lib/python3.7/dist-packages (from tensorflow-addons) (2.7.1)\n"
     ]
    }
   ],
   "source": [
    "!pip install tensorflow-addons"
   ]
  },
  {
   "cell_type": "markdown",
   "metadata": {
    "id": "43wrnyULXqsH"
   },
   "source": [
    "# Imports"
   ]
  },
  {
   "cell_type": "code",
   "execution_count": 15,
   "metadata": {
    "id": "tjveaAjMXppf"
   },
   "outputs": [],
   "source": [
    "from google.colab import drive\n",
    "from transformers import RobertaTokenizer, TFRobertaForSequenceClassification\n",
    "import pickle\n",
    "from sklearn.preprocessing import LabelEncoder\n",
    "from sklearn.model_selection import train_test_split\n",
    "import tensorflow as tf\n",
    "from matplotlib import pyplot as plt\n",
    "from tensorflow.keras import backend as K\n",
    "from tensorflow.keras import metrics\n",
    "import tensorflow_addons as tfa\n",
    "from sklearn.utils.class_weight import compute_class_weight\n",
    "from sklearn.metrics import f1_score, accuracy_score,classification_report\n",
    "import numpy as np\n",
    "import random"
   ]
  },
  {
   "cell_type": "code",
   "execution_count": 16,
   "metadata": {
    "colab": {
     "base_uri": "https://localhost:8080/"
    },
    "id": "LVAeUbdXc2AV",
    "outputId": "d8f17356-8036-4120-abc6-a25cd6dff7ea"
   },
   "outputs": [
    {
     "name": "stdout",
     "output_type": "stream",
     "text": [
      "Drive already mounted at /content/drive; to attempt to forcibly remount, call drive.mount(\"/content/drive\", force_remount=True).\n"
     ]
    }
   ],
   "source": [
    "# Mount drive\n",
    "drive.mount('/content/drive')"
   ]
  },
  {
   "cell_type": "code",
   "execution_count": null,
   "metadata": {},
   "outputs": [],
   "source": [
    "# Change the value of base_path to the directory that contains the data.\n",
    "BASE_PATH = '/content/drive/MyDrive/Thesis/RobBert/'"
   ]
  },
  {
   "cell_type": "markdown",
   "metadata": {
    "id": "xbzbeOagYN54"
   },
   "source": [
    "# Machine learning"
   ]
  },
  {
   "cell_type": "code",
   "execution_count": 17,
   "metadata": {
    "id": "78PPbQMxAUkR"
   },
   "outputs": [],
   "source": [
    "with open('texts.pkl', 'rb') as f:\n",
    "  text_list = pickle.load(f)\n",
    "with open('labels.pkl', 'rb') as f:\n",
    "  label_list = pickle.load(f)"
   ]
  },
  {
   "cell_type": "code",
   "execution_count": 18,
   "metadata": {
    "id": "GRhW9WcFPuap"
   },
   "outputs": [],
   "source": [
    "def train_model(text, labels, optimization_function, num_epochs, model_name, batchsize, reset_graph=True, take_weights=True):\n",
    "  # We train several models in succession, so we need to reset the tensorflow graph\n",
    "  K.clear_session()\n",
    "  if reset_graph == True:\n",
    "    tf.compat.v1.reset_default_graph\n",
    "    tf.compat.v1.Session()\n",
    "  # Inititalize model & tokenizer\n",
    "  tokenizer = RobertaTokenizer.from_pretrained(\"pdelobelle/robbert-v2-dutch-base\")\n",
    "  model = TFRobertaForSequenceClassification.from_pretrained(\"pdelobelle/robbert-v2-dutch-base\", num_labels = 9)\n",
    "  # Encode labels into integers\n",
    "  le = LabelEncoder()\n",
    "  labels_encoded = le.fit_transform(labels)\n",
    "\n",
    "  all_labels = np.unique(labels)\n",
    "  labels_transformed = le.transform(all_labels)\n",
    "  translation_dict = {x: y for x, y in zip(all_labels, labels_transformed)}\n",
    "\n",
    "  # Split into train, test, and validation set\n",
    "  train_texts, test_texts, train_labels, test_labels = train_test_split(text, labels_encoded, test_size=.2, random_state = 420)\n",
    "  train_texts, val_texts, train_labels, val_labels = train_test_split(train_texts, train_labels, test_size = 0.2, random_state = 420)\n",
    "\n",
    "  print(f'len training set: {len(train_texts)}')\n",
    "  print(f'len validation set: {len(val_texts)}')\n",
    "  print(f'len test set: {len(test_texts)}')\n",
    "  # Tokenize text \n",
    "  train_encodings = tokenizer(train_texts, truncation=True, padding=True)\n",
    "  test_encodings = tokenizer(test_texts, truncation=True, padding=True)\n",
    "  val_encodings = tokenizer(val_texts, truncation=True, padding=True)\n",
    "\n",
    "  # Transform data into tensorflow-dataset objects\n",
    "  train_dataset = tf.data.Dataset.from_tensor_slices((\n",
    "    dict(train_encodings),\n",
    "    train_labels\n",
    "  )).shuffle(len(train_texts))\n",
    "  test_dataset = tf.data.Dataset.from_tensor_slices((\n",
    "      dict(test_encodings),\n",
    "      test_labels\n",
    "  )).shuffle(len(test_texts))\n",
    "  val_dataset = tf.data.Dataset.from_tensor_slices((\n",
    "      dict(val_encodings),\n",
    "      val_labels\n",
    "  )).shuffle(len(val_texts))\n",
    "  optimizer = optimization_function\n",
    "  model.compile(optimizer=optimizer, \n",
    "                loss=model.compute_loss, \n",
    "                metrics=['accuracy'] \n",
    "                ) \n",
    "  # Start TRaining\n",
    "  print('--------------------STARTING TRAINING--------------------')\n",
    "  if take_weights == False:\n",
    "    history = model.fit(train_dataset.batch(batchsize), \n",
    "                        epochs=num_epochs, \n",
    "                        batch_size=batchsize, \n",
    "                        validation_data=val_dataset.batch(batchsize)\n",
    "                        )\n",
    "  else:\n",
    "    class_weights = dict(enumerate(compute_class_weight('balanced', np.unique(labels), labels)))\n",
    "    history = model.fit(train_dataset.batch(batchsize), \n",
    "                        epochs=num_epochs, batch_size=batchsize, \n",
    "                        validation_data=val_dataset.batch(batchsize), \n",
    "                        class_weight=class_weights\n",
    "                        )\n",
    "  model.save_pretrained(BASE_PATH+f\"{model_name}\")\n",
    "  # Save history as well for plotting later on\n",
    "  with open(BASE_PATH+f\"{model_name}_HISTORY.pkl\", 'wb') as f:\n",
    "    pickle.dump(history.history, f)\n",
    "\n",
    "  return model, history, test_dataset, test_encodings, test_labels, translation_dict, class_weights\n",
    "\n",
    "def evaluate_performance(model, history, test_dataset, batchsize):\n",
    "  # Evaluate using test set\n",
    "  print('--------------------STARTING EVALUATION--------------------')\n",
    "\n",
    "  # Plot training vs. validation loss\n",
    "  plt.plot(history.history['loss'])\n",
    "  plt.plot(history.history['val_loss'])\n",
    "  plt.title('model loss')\n",
    "  plt.ylabel('loss')\n",
    "  plt.xlabel('epoch')\n",
    "  plt.legend(['train', 'val'], loc='upper left')\n",
    "  plt.show()\n",
    "\n",
    "  predictions = tf.nn.softmax(model.predict(test_dataset.batch(batchsize)).logits)\n",
    "  test_labels = np.concatenate([y for x, y in test_dataset.batch(batchsize)], axis=0)\n",
    "  print(f\"sklearn accuracy: {accuracy_score(test_labels, np.argmax(predictions, axis=1))}\")\n",
    "  print(classification_report(test_labels,np.argmax(predictions, axis=1)))\n",
    "  print(f\"micro f1 score: {f1_score(test_labels, np.argmax(predictions, axis=1), average='micro')}\")\n",
    "  print(f\"macro f1 score: {f1_score(test_labels, np.argmax(predictions, axis=1), average='macro')}\")\n",
    "\n",
    "  del model"
   ]
  },
  {
   "cell_type": "code",
   "execution_count": 33,
   "metadata": {
    "colab": {
     "base_uri": "https://localhost:8080/"
    },
    "id": "Kk03CRtdHa9w",
    "outputId": "9cb53fc9-6feb-4cf2-f5a0-9ef582ba4841"
   },
   "outputs": [
    {
     "name": "stderr",
     "output_type": "stream",
     "text": [
      "All model checkpoint layers were used when initializing TFRobertaForSequenceClassification.\n",
      "\n",
      "Some layers of TFRobertaForSequenceClassification were not initialized from the model checkpoint at pdelobelle/robbert-v2-dutch-base and are newly initialized: ['classifier']\n",
      "You should probably TRAIN this model on a down-stream task to be able to use it for predictions and inference.\n",
      "Asking to truncate to max_length but no maximum length is provided and the model has no predefined maximum length. Default to no truncation.\n"
     ]
    },
    {
     "name": "stdout",
     "output_type": "stream",
     "text": [
      "len training set: 764\n",
      "len validation set: 191\n",
      "len test set: 239\n",
      "--------------------STARTING TRAINING--------------------\n",
      "Epoch 1/10\n",
      "WARNING:tensorflow:The parameters `output_attentions`, `output_hidden_states` and `use_cache` cannot be updated when calling a model.They have to be set to True/False in the config object (i.e.: `config=XConfig.from_pretrained('name', output_attentions=True)`).\n",
      "WARNING:tensorflow:The parameter `return_dict` cannot be set in graph mode and will always be set to `True`.\n",
      "WARNING:tensorflow:The parameters `output_attentions`, `output_hidden_states` and `use_cache` cannot be updated when calling a model.They have to be set to True/False in the config object (i.e.: `config=XConfig.from_pretrained('name', output_attentions=True)`).\n",
      "WARNING:tensorflow:The parameter `return_dict` cannot be set in graph mode and will always be set to `True`.\n",
      "191/191 [==============================] - ETA: 0s - loss: 19.2030 - accuracy: 0.1243WARNING:tensorflow:The parameters `output_attentions`, `output_hidden_states` and `use_cache` cannot be updated when calling a model.They have to be set to True/False in the config object (i.e.: `config=XConfig.from_pretrained('name', output_attentions=True)`).\n",
      "WARNING:tensorflow:The parameter `return_dict` cannot be set in graph mode and will always be set to `True`.\n",
      "191/191 [==============================] - 102s 460ms/step - loss: 19.2030 - accuracy: 0.1243 - val_loss: 7.0640 - val_accuracy: 0.0785\n",
      "Epoch 2/10\n",
      "191/191 [==============================] - 85s 448ms/step - loss: 15.5571 - accuracy: 0.0942 - val_loss: 7.7335 - val_accuracy: 0.1518\n",
      "Epoch 3/10\n",
      "191/191 [==============================] - 85s 448ms/step - loss: 18.4740 - accuracy: 0.0733 - val_loss: 17.1775 - val_accuracy: 0.0785\n",
      "Epoch 4/10\n",
      "191/191 [==============================] - 86s 448ms/step - loss: 14.8200 - accuracy: 0.0864 - val_loss: 5.4002 - val_accuracy: 0.2513\n",
      "Epoch 5/10\n",
      "191/191 [==============================] - 86s 448ms/step - loss: 12.4241 - accuracy: 0.1113 - val_loss: 8.2871 - val_accuracy: 0.2513\n",
      "Epoch 6/10\n",
      "191/191 [==============================] - 86s 448ms/step - loss: 15.4496 - accuracy: 0.0995 - val_loss: 12.2213 - val_accuracy: 0.0105\n",
      "Epoch 7/10\n",
      "191/191 [==============================] - 85s 447ms/step - loss: 11.9969 - accuracy: 0.1283 - val_loss: 26.2475 - val_accuracy: 0.1466\n",
      "Epoch 8/10\n",
      "191/191 [==============================] - 86s 448ms/step - loss: 17.0714 - accuracy: 0.0916 - val_loss: 17.4798 - val_accuracy: 0.1466\n",
      "Epoch 9/10\n",
      "191/191 [==============================] - 85s 448ms/step - loss: 14.4923 - accuracy: 0.1165 - val_loss: 13.7643 - val_accuracy: 0.0785\n",
      "Epoch 10/10\n",
      "191/191 [==============================] - 85s 448ms/step - loss: 18.5978 - accuracy: 0.1165 - val_loss: 3.3460 - val_accuracy: 0.2513\n"
     ]
    }
   ],
   "source": [
    "optimizer = tf.keras.optimizers.Adamax(learning_rate=0.0962607095991547)\n",
    "model, history, dataset, test_encodings, test_labels, translation_dict, class_weights_dict = train_model(text_list, label_list, optimizer, 10, 'final_model', 4, take_weights=True)"
   ]
  },
  {
   "cell_type": "code",
   "execution_count": 34,
   "metadata": {
    "colab": {
     "base_uri": "https://localhost:8080/",
     "height": 706
    },
    "id": "jZTraoWXIRKo",
    "outputId": "4159da63-d695-4c0c-d64a-b84dd92a3780"
   },
   "outputs": [
    {
     "name": "stdout",
     "output_type": "stream",
     "text": [
      "--------------------STARTING EVALUATION--------------------\n"
     ]
    },
    {
     "data": {
      "image/png": "[encoded data removed]",
      "text/plain": [
       "<Figure size 432x288 with 1 Axes>"
      ]
     },
     "metadata": {
      "needs_background": "light",
      "tags": []
     },
     "output_type": "display_data"
    },
    {
     "name": "stdout",
     "output_type": "stream",
     "text": [
      "WARNING:tensorflow:The parameters `output_attentions`, `output_hidden_states` and `use_cache` cannot be updated when calling a model.They have to be set to True/False in the config object (i.e.: `config=XConfig.from_pretrained('name', output_attentions=True)`).\n",
      "WARNING:tensorflow:The parameter `return_dict` cannot be set in graph mode and will always be set to `True`.\n",
      "sklearn accuracy: 0.28870292887029286\n",
      "              precision    recall  f1-score   support\n",
      "\n",
      "           0       0.00      0.00      0.00        45\n",
      "           2       0.00      0.00      0.00        17\n",
      "           3       0.00      0.00      0.00        39\n",
      "           4       0.00      0.00      0.00        41\n",
      "           5       0.00      0.00      0.00        13\n",
      "           6       0.00      0.00      0.00         3\n",
      "           7       0.29      1.00      0.45        69\n",
      "           8       0.00      0.00      0.00        12\n",
      "\n",
      "    accuracy                           0.29       239\n",
      "   macro avg       0.04      0.12      0.06       239\n",
      "weighted avg       0.08      0.29      0.13       239\n",
      "\n",
      "micro f1 score: 0.28870292887029286\n",
      "macro f1 score: 0.0560064935064935\n"
     ]
    },
    {
     "name": "stderr",
     "output_type": "stream",
     "text": [
      "/usr/local/lib/python3.7/dist-packages/sklearn/metrics/_classification.py:1272: UndefinedMetricWarning: Precision and F-score are ill-defined and being set to 0.0 in labels with no predicted samples. Use `zero_division` parameter to control this behavior.\n",
      "  _warn_prf(average, modifier, msg_start, len(result))\n"
     ]
    }
   ],
   "source": [
    "evaluate_performance(model, history, dataset, 6)"
   ]
  },
  {
   "cell_type": "code",
   "execution_count": 21,
   "metadata": {
    "colab": {
     "base_uri": "https://localhost:8080/"
    },
    "id": "zxW15YmuabjC",
    "outputId": "592272b5-2e01-47dd-c2a6-cf07a36d71d1"
   },
   "outputs": [
    {
     "data": {
      "text/plain": [
       "{'Aanvaarding': 0,\n",
       " 'Angst': 1,\n",
       " 'Anticipatie': 2,\n",
       " 'Boosheid (woede)': 3,\n",
       " 'Geen emoti': 4,\n",
       " 'Verassing': 5,\n",
       " 'Verdriet': 6,\n",
       " 'Vreugde': 7,\n",
       " 'Walging': 8}"
      ]
     },
     "execution_count": 21,
     "metadata": {
      "tags": []
     },
     "output_type": "execute_result"
    }
   ],
   "source": [
    "# This dict contains the encodings the labelencoder used to replace the string labels with.\n",
    "translation_dict"
   ]
  },
  {
   "cell_type": "markdown",
   "metadata": {
    "id": "Qtz0fBGoVFYT"
   },
   "source": [
    "# Random Classification"
   ]
  },
  {
   "cell_type": "code",
   "execution_count": 23,
   "metadata": {
    "id": "iJ8VZRHGYngI"
   },
   "outputs": [],
   "source": [
    "weights = [class_weights_dict[key] for key in class_weights_dict]\n",
    "weights = [i / sum(weights) for i in weights]"
   ]
  },
  {
   "cell_type": "code",
   "execution_count": 30,
   "metadata": {
    "id": "YDzMNWXfVHBx"
   },
   "outputs": [],
   "source": [
    "def perform_random_classification(n):\n",
    "  return [np.random.choice(np.arange(0,9), p = weights) for i in range(n)]\n",
    "\n",
    "def compute_f1_score(y_true, y_pred):\n",
    "  return f1_score(y_true, y_pred, average='macro')\n",
    "\n",
    "def experiments(n, test_data):\n",
    "  accuracies = []\n",
    "  f1_scores = []\n",
    "  for i in range(n):\n",
    "    random_classification = perform_random_classification(len(test_data))\n",
    "    accuracies.append(accuracy_score(test_data, random_classification))\n",
    "    f1_scores.append(compute_f1_score(test_data, random_classification))\n",
    "    \n",
    "  return sum(f1_scores) / len(f1_scores), sum(accuracies) / len(accuracies)\n"
   ]
  },
  {
   "cell_type": "code",
   "execution_count": 28,
   "metadata": {
    "id": "xqT_bMQooWAF"
   },
   "outputs": [],
   "source": [
    "tokenizer = RobertaTokenizer.from_pretrained(\"pdelobelle/robbert-v2-dutch-base\")\n",
    "\n",
    "le = LabelEncoder()\n",
    "labels_encoded = le.fit_transform(label_list)\n",
    "\n",
    "all_labels = np.unique(label_list)\n",
    "labels_transformed = le.transform(all_labels)\n",
    "translation_dict_rc = {x: y for x, y in zip(all_labels, labels_transformed)}\n",
    "\n",
    "# Split into train, test, and validation set\n",
    "train_texts, test_texts, train_labels, test_labels = train_test_split(text_list, labels_encoded, test_size=.2, random_state = 420)"
   ]
  },
  {
   "cell_type": "code",
   "execution_count": 31,
   "metadata": {
    "id": "HwIiI9jCpVDn"
   },
   "outputs": [],
   "source": [
    "average_f1, average_accuracy = experiments(1000000, test_labels)"
   ]
  },
  {
   "cell_type": "code",
   "execution_count": 32,
   "metadata": {
    "colab": {
     "base_uri": "https://localhost:8080/"
    },
    "id": "AYcwMnJDpg-M",
    "outputId": "ad182eee-ca60-4417-a544-05571c0cb3a1"
   },
   "outputs": [
    {
     "name": "stdout",
     "output_type": "stream",
     "text": [
      "Average accuracy over 1M experiments of a random classifier: 0.03413941841005807\n",
      "Average f1 score (macro average) over 1M experiments of a random classifier: 0.040651677583027124\n"
     ]
    }
   ],
   "source": [
    "print(f'Average accuracy over 1M experiments of a random classifier: {average_accuracy}')\n",
    "print(f'Average f1 score (macro average) over 1M experiments of a random classifier: {average_f1}')"
   ]
  }
 ],
 "metadata": {
  "accelerator": "GPU",
  "colab": {
   "collapsed_sections": [
    "LOacg2mhYVFb"
   ],
   "machine_shape": "hm",
   "name": "LLM.ipynb",
   "provenance": []
  },
  "kernelspec": {
   "display_name": "Python 3",
   "language": "python",
   "name": "python3"
  },
  "language_info": {
   "codemirror_mode": {
    "name": "ipython",
    "version": 3
   },
   "file_extension": ".py",
   "mimetype": "text/x-python",
   "name": "python",
   "nbconvert_exporter": "python",
   "pygments_lexer": "ipython3",
   "version": "3.8.5"
  }
 },
 "nbformat": 4,
 "nbformat_minor": 1
}
